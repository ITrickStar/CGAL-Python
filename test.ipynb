{
 "cells": [
  {
   "cell_type": "code",
   "execution_count": 1,
   "metadata": {},
   "outputs": [],
   "source": [
    "from CGAL import CGAL_Convex_hull_2, CGAL_Convex_hull_3, CGAL_Polyhedron_3\n",
    "from CGAL.CGAL_Polyhedron_3 import Polyhedron_3\n",
    "import random as rn\n",
    "from CGAL.CGAL_Kernel import Point_2, Point_3\n",
    "\n",
    "X3d = []\n",
    "Result3d = Polyhedron_3()\n",
    "n = 25\n",
    "for i in range (n):\n",
    "    X3d.append(Point_3(rn.uniform(-1,1), rn.uniform(-1,1), rn.uniform(-1,1)))\n",
    "CGAL_Convex_hull_3.convex_hull_3(X3d, Result3d)"
   ]
  },
  {
   "cell_type": "code",
   "execution_count": 5,
   "metadata": {},
   "outputs": [],
   "source": [
    "l = list(Result3d.vertices())"
   ]
  },
  {
   "cell_type": "code",
   "execution_count": 8,
   "metadata": {},
   "outputs": [
    {
     "data": {
      "text/plain": [
       "0.697867939016235"
      ]
     },
     "execution_count": 8,
     "metadata": {},
     "output_type": "execute_result"
    }
   ],
   "source": [
    "l[0].point().x()"
   ]
  }
 ],
 "metadata": {
  "kernelspec": {
   "display_name": "cgal_env",
   "language": "python",
   "name": "python3"
  },
  "language_info": {
   "codemirror_mode": {
    "name": "ipython",
    "version": 3
   },
   "file_extension": ".py",
   "mimetype": "text/x-python",
   "name": "python",
   "nbconvert_exporter": "python",
   "pygments_lexer": "ipython3",
   "version": "3.9.0"
  }
 },
 "nbformat": 4,
 "nbformat_minor": 2
}
